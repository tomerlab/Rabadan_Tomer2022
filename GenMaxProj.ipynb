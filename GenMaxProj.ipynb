{
 "cells": [
  {
   "cell_type": "markdown",
   "metadata": {},
   "source": [
    " Code for generation of Max Intensity projections along time-axis of Calcium imaging data. "
   ]
  },
  {
   "cell_type": "markdown",
   "metadata": {},
   "source": [
    " @uthor: Raju Tomer."
   ]
  },
  {
   "cell_type": "code",
   "execution_count": 1,
   "metadata": {},
   "outputs": [],
   "source": [
    "# all the imports\n",
    "import skimage.external.tifffile as tff\n",
    "import os\n",
    "import numpy as np\n",
    "from scipy import ndimage"
   ]
  },
  {
   "cell_type": "code",
   "execution_count": 6,
   "metadata": {
    "scrolled": false
   },
   "outputs": [
    {
     "name": "stdout",
     "output_type": "stream",
     "text": [
      "BT\n",
      "Processing  211224_D2WD_bs_DIV17_crp_moco_Red4x.tif\n",
      "Processing  211224_D1WB_bs_DIV17_crp_Red4x.tif\n",
      "Processing  211224_D1WC_bs_DIV17_crp_Red4x.tif\n",
      "Processing  211224_D2WA_bs_DIV17_crp_moco_Red4x.tif\n",
      "Processing  211224_D2WC_bs_DIV17_crp_moco_Red4x.tif\n",
      "AT\n",
      "Processing  211224_D2WD_10uMPicro_crp_moco_DIV17_Red4x.tif\n",
      "Processing  211224_D1WB_1uMBcl_DIV17_crp_Red4x.tif\n",
      "Processing  211224_D1WC_1uMBcl_DIV17_crp_moco_Red4x.tif\n",
      "Processing  211224_D2WA_10uMPicro_crp_moco_DIV17_Red4x.tif\n",
      "Processing  211224_D2WC_10uMPicro_crp_moco_Red4x.tif\n",
      "AT_aln\n"
     ]
    }
   ],
   "source": [
    "# Foreach read the image, generate max, std and min projections and save them in the same folder\n",
    "rootdir = r'W:\\People\\Raju\\Data\\Batch1'\n",
    "for root1, dirs1, files1 in os.walk(rootdir):\n",
    "    for dn in dirs1:\n",
    "        print(dn)\n",
    "        for root2, dirs2, files2 in os.walk(os.path.join(rootdir,dn)):\n",
    "            for fn in files2:\n",
    "                if ('.tif' in fn):\n",
    "                    print('Processing ', fn)\n",
    "                    im = tff.imread(os.path.join(rootdir, dn, fn))\n",
    "                    im = ndimage.median_filter(im, size=(3,1,1))\n",
    "                    if(len(im.shape) == 3):\n",
    "                        im_max = np.max(im, axis=0)\n",
    "                        im_std = np.std(im, axis=0)\n",
    "                        im_min = np.min(im, axis=0)\n",
    "                        fname = os.path.join(rootdir, dn, 'MAX_' + fn)\n",
    "                        tff.imsave(fname, im_max)\n",
    "                        fname = os.path.join(rootdir, dn, 'STD_' + fn)\n",
    "                        tff.imsave(fname, im_std.astype('uint16'))\n",
    "                        fname = os.path.join(rootdir, dn, 'MIN_' + fn)\n",
    "                        tff.imsave(fname, im_min)"
   ]
  }
 ],
 "metadata": {
  "kernelspec": {
   "display_name": "Python 3",
   "language": "python",
   "name": "python3"
  },
  "language_info": {
   "codemirror_mode": {
    "name": "ipython",
    "version": 3
   },
   "file_extension": ".py",
   "mimetype": "text/x-python",
   "name": "python",
   "nbconvert_exporter": "python",
   "pygments_lexer": "ipython3",
   "version": "3.7.4"
  }
 },
 "nbformat": 4,
 "nbformat_minor": 2
}
